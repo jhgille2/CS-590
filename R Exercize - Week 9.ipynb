{
 "cells": [
  {
   "cell_type": "markdown",
   "metadata": {},
   "source": [
    "For this exercise, use the examples from the lectures and prior coding exercises to provide answers to the following questions:\n",
    "\n",
    "    Import peanut_lines.csv and store data as lines\n",
    "    Show the first 25 rows of lines"
   ]
  },
  {
   "cell_type": "code",
   "execution_count": 26,
   "metadata": {},
   "outputs": [
    {
     "data": {
      "text/html": [
       "<table>\n",
       "<thead><tr><th scope=col>NC_Accession</th><th scope=col>Parentage</th><th scope=col>Pedigree</th><th scope=col>FAG</th></tr></thead>\n",
       "<tbody>\n",
       "\t<tr><td>ACI WT09-0761                                                            </td><td>ACI WT09-0761                                                            </td><td>                                                                         </td><td>Check                                                                    </td></tr>\n",
       "\t<tr><td>ACI WT11-0351                                                            </td><td>ACI WT11-0351                                                            </td><td>                                                                         </td><td>ol ol                                                                    </td></tr>\n",
       "\t<tr><td>ACI WT12-0226                                                            </td><td>ACI WT12-0226                                                            </td><td>                                                                         </td><td>ol ol                                                                    </td></tr>\n",
       "\t<tr><td>ACI WT12-0419                                                            </td><td>ACI WT12-0419                                                            </td><td>                                                                         </td><td>Check                                                                    </td></tr>\n",
       "\t<tr><td>ACI WT12-0420                                                            </td><td>ACI WT12-0420                                                            </td><td>                                                                         </td><td>ol ol                                                                    </td></tr>\n",
       "\t<tr><td>ACI WT12-0433                                                            </td><td>ACI WT12-0433                                                            </td><td>                                                                         </td><td>Check                                                                    </td></tr>\n",
       "\t<tr><td>Bailey                                                                   </td><td>NC 12C*2 / N96076L                                                       </td><td>BC1F1-06-01-S-03-S-05: F09                                               </td><td>+ +                                                                      </td></tr>\n",
       "\t<tr><td>Bailey II                                                                </td><td>Bailey /4/ X07016, Bailey // X05027, Bailey / N02060ol, X05249 /3/ Bailey</td><td>BC3F1-02-01-S-02-S-02: F09                                               </td><td>ol ol                                                                    </td></tr>\n",
       "\t<tr><td>Brantley                                                                 </td><td>Brantley                                                                 </td><td>                                                                         </td><td>ol ol                                                                    </td></tr>\n",
       "\t<tr><td>CHAMPS                                                                   </td><td>CHAMPS                                                                   </td><td>                                                                         </td><td>+ +                                                                      </td></tr>\n",
       "\t<tr><td>Emery                                                                    </td><td>N03079FT*2 / Brantley                                                    </td><td>BC1F1-03-01-01-02-02-01: F08                                             </td><td>ol ol                                                                    </td></tr>\n",
       "\t<tr><td>Florida Fancy                                                            </td><td>Florida Fancy                                                            </td><td>                                                                         </td><td>ol ol                                                                    </td></tr>\n",
       "\t<tr><td>Florida-07                                                               </td><td>Florida-07                                                               </td><td>                                                                         </td><td>ol ol                                                                    </td></tr>\n",
       "\t<tr><td>FloriGiant                                                               </td><td>FloriGiant                                                               </td><td>                                                                         </td><td>+ +                                                                      </td></tr>\n",
       "\t<tr><td>FloRun 107                                                               </td><td>FloRun 107                                                               </td><td>                                                                         </td><td>ol ol                                                                    </td></tr>\n",
       "\t<tr><td>FloRun 157                                                               </td><td>FloRun 157                                                               </td><td>                                                                         </td><td>ol ol                                                                    </td></tr>\n",
       "\t<tr><td>FloRun 331                                                               </td><td>FloRun 331                                                               </td><td>                                                                         </td><td>ol ol                                                                    </td></tr>\n",
       "\t<tr><td>Georgia Green                                                            </td><td>Georgia Green                                                            </td><td>                                                                         </td><td>+ +                                                                      </td></tr>\n",
       "\t<tr><td>Georgia-06G                                                              </td><td>Georgia-06G                                                              </td><td>                                                                         </td><td>+ +                                                                      </td></tr>\n",
       "\t<tr><td>Georgia-07W                                                              </td><td>Georgia-07W                                                              </td><td>                                                                         </td><td>+ +                                                                      </td></tr>\n",
       "\t<tr><td>Georgia-09B                                                              </td><td>Georgia-09B                                                              </td><td>                                                                         </td><td>ol ol                                                                    </td></tr>\n",
       "\t<tr><td>Georgia-11J                                                              </td><td>Georgia-11J                                                              </td><td>                                                                         </td><td>ol ol                                                                    </td></tr>\n",
       "\t<tr><td>Georgia-12Y                                                              </td><td>Georgia-12Y                                                              </td><td>                                                                         </td><td>+ +                                                                      </td></tr>\n",
       "\t<tr><td>Gregory                                                                  </td><td>Gregory                                                                  </td><td>                                                                         </td><td>+ +                                                                      </td></tr>\n",
       "\t<tr><td>Harris 1                                                                 </td><td>Harris 1                                                                 </td><td>                                                                         </td><td>Check                                                                    </td></tr>\n",
       "</tbody>\n",
       "</table>\n"
      ],
      "text/latex": [
       "\\begin{tabular}{r|llll}\n",
       " NC\\_Accession & Parentage & Pedigree & FAG\\\\\n",
       "\\hline\n",
       "\t ACI WT09-0761                                                             & ACI WT09-0761                                                             &                                                                           & Check                                                                    \\\\\n",
       "\t ACI WT11-0351                                                             & ACI WT11-0351                                                             &                                                                           & ol ol                                                                    \\\\\n",
       "\t ACI WT12-0226                                                             & ACI WT12-0226                                                             &                                                                           & ol ol                                                                    \\\\\n",
       "\t ACI WT12-0419                                                             & ACI WT12-0419                                                             &                                                                           & Check                                                                    \\\\\n",
       "\t ACI WT12-0420                                                             & ACI WT12-0420                                                             &                                                                           & ol ol                                                                    \\\\\n",
       "\t ACI WT12-0433                                                             & ACI WT12-0433                                                             &                                                                           & Check                                                                    \\\\\n",
       "\t Bailey                                                                    & NC 12C*2 / N96076L                                                        & BC1F1-06-01-S-03-S-05: F09                                                & + +                                                                      \\\\\n",
       "\t Bailey II                                                                 & Bailey /4/ X07016, Bailey // X05027, Bailey / N02060ol, X05249 /3/ Bailey & BC3F1-02-01-S-02-S-02: F09                                                & ol ol                                                                    \\\\\n",
       "\t Brantley                                                                  & Brantley                                                                  &                                                                           & ol ol                                                                    \\\\\n",
       "\t CHAMPS                                                                    & CHAMPS                                                                    &                                                                           & + +                                                                      \\\\\n",
       "\t Emery                                                                     & N03079FT*2 / Brantley                                                     & BC1F1-03-01-01-02-02-01: F08                                              & ol ol                                                                    \\\\\n",
       "\t Florida Fancy                                                             & Florida Fancy                                                             &                                                                           & ol ol                                                                    \\\\\n",
       "\t Florida-07                                                                & Florida-07                                                                &                                                                           & ol ol                                                                    \\\\\n",
       "\t FloriGiant                                                                & FloriGiant                                                                &                                                                           & + +                                                                      \\\\\n",
       "\t FloRun 107                                                                & FloRun 107                                                                &                                                                           & ol ol                                                                    \\\\\n",
       "\t FloRun 157                                                                & FloRun 157                                                                &                                                                           & ol ol                                                                    \\\\\n",
       "\t FloRun 331                                                                & FloRun 331                                                                &                                                                           & ol ol                                                                    \\\\\n",
       "\t Georgia Green                                                             & Georgia Green                                                             &                                                                           & + +                                                                      \\\\\n",
       "\t Georgia-06G                                                               & Georgia-06G                                                               &                                                                           & + +                                                                      \\\\\n",
       "\t Georgia-07W                                                               & Georgia-07W                                                               &                                                                           & + +                                                                      \\\\\n",
       "\t Georgia-09B                                                               & Georgia-09B                                                               &                                                                           & ol ol                                                                    \\\\\n",
       "\t Georgia-11J                                                               & Georgia-11J                                                               &                                                                           & ol ol                                                                    \\\\\n",
       "\t Georgia-12Y                                                               & Georgia-12Y                                                               &                                                                           & + +                                                                      \\\\\n",
       "\t Gregory                                                                   & Gregory                                                                   &                                                                           & + +                                                                      \\\\\n",
       "\t Harris 1                                                                  & Harris 1                                                                  &                                                                           & Check                                                                    \\\\\n",
       "\\end{tabular}\n"
      ],
      "text/markdown": [
       "\n",
       "| NC_Accession | Parentage | Pedigree | FAG |\n",
       "|---|---|---|---|\n",
       "| ACI WT09-0761                                                             | ACI WT09-0761                                                             |                                                                           | Check                                                                     |\n",
       "| ACI WT11-0351                                                             | ACI WT11-0351                                                             |                                                                           | ol ol                                                                     |\n",
       "| ACI WT12-0226                                                             | ACI WT12-0226                                                             |                                                                           | ol ol                                                                     |\n",
       "| ACI WT12-0419                                                             | ACI WT12-0419                                                             |                                                                           | Check                                                                     |\n",
       "| ACI WT12-0420                                                             | ACI WT12-0420                                                             |                                                                           | ol ol                                                                     |\n",
       "| ACI WT12-0433                                                             | ACI WT12-0433                                                             |                                                                           | Check                                                                     |\n",
       "| Bailey                                                                    | NC 12C*2 / N96076L                                                        | BC1F1-06-01-S-03-S-05: F09                                                | + +                                                                       |\n",
       "| Bailey II                                                                 | Bailey /4/ X07016, Bailey // X05027, Bailey / N02060ol, X05249 /3/ Bailey | BC3F1-02-01-S-02-S-02: F09                                                | ol ol                                                                     |\n",
       "| Brantley                                                                  | Brantley                                                                  |                                                                           | ol ol                                                                     |\n",
       "| CHAMPS                                                                    | CHAMPS                                                                    |                                                                           | + +                                                                       |\n",
       "| Emery                                                                     | N03079FT*2 / Brantley                                                     | BC1F1-03-01-01-02-02-01: F08                                              | ol ol                                                                     |\n",
       "| Florida Fancy                                                             | Florida Fancy                                                             |                                                                           | ol ol                                                                     |\n",
       "| Florida-07                                                                | Florida-07                                                                |                                                                           | ol ol                                                                     |\n",
       "| FloriGiant                                                                | FloriGiant                                                                |                                                                           | + +                                                                       |\n",
       "| FloRun 107                                                                | FloRun 107                                                                |                                                                           | ol ol                                                                     |\n",
       "| FloRun 157                                                                | FloRun 157                                                                |                                                                           | ol ol                                                                     |\n",
       "| FloRun 331                                                                | FloRun 331                                                                |                                                                           | ol ol                                                                     |\n",
       "| Georgia Green                                                             | Georgia Green                                                             |                                                                           | + +                                                                       |\n",
       "| Georgia-06G                                                               | Georgia-06G                                                               |                                                                           | + +                                                                       |\n",
       "| Georgia-07W                                                               | Georgia-07W                                                               |                                                                           | + +                                                                       |\n",
       "| Georgia-09B                                                               | Georgia-09B                                                               |                                                                           | ol ol                                                                     |\n",
       "| Georgia-11J                                                               | Georgia-11J                                                               |                                                                           | ol ol                                                                     |\n",
       "| Georgia-12Y                                                               | Georgia-12Y                                                               |                                                                           | + +                                                                       |\n",
       "| Gregory                                                                   | Gregory                                                                   |                                                                           | + +                                                                       |\n",
       "| Harris 1                                                                  | Harris 1                                                                  |                                                                           | Check                                                                     |\n",
       "\n"
      ],
      "text/plain": [
       "   NC_Accession \n",
       "1  ACI WT09-0761\n",
       "2  ACI WT11-0351\n",
       "3  ACI WT12-0226\n",
       "4  ACI WT12-0419\n",
       "5  ACI WT12-0420\n",
       "6  ACI WT12-0433\n",
       "7  Bailey       \n",
       "8  Bailey II    \n",
       "9  Brantley     \n",
       "10 CHAMPS       \n",
       "11 Emery        \n",
       "12 Florida Fancy\n",
       "13 Florida-07   \n",
       "14 FloriGiant   \n",
       "15 FloRun 107   \n",
       "16 FloRun 157   \n",
       "17 FloRun 331   \n",
       "18 Georgia Green\n",
       "19 Georgia-06G  \n",
       "20 Georgia-07W  \n",
       "21 Georgia-09B  \n",
       "22 Georgia-11J  \n",
       "23 Georgia-12Y  \n",
       "24 Gregory      \n",
       "25 Harris 1     \n",
       "   Parentage                                                                \n",
       "1  ACI WT09-0761                                                            \n",
       "2  ACI WT11-0351                                                            \n",
       "3  ACI WT12-0226                                                            \n",
       "4  ACI WT12-0419                                                            \n",
       "5  ACI WT12-0420                                                            \n",
       "6  ACI WT12-0433                                                            \n",
       "7  NC 12C*2 / N96076L                                                       \n",
       "8  Bailey /4/ X07016, Bailey // X05027, Bailey / N02060ol, X05249 /3/ Bailey\n",
       "9  Brantley                                                                 \n",
       "10 CHAMPS                                                                   \n",
       "11 N03079FT*2 / Brantley                                                    \n",
       "12 Florida Fancy                                                            \n",
       "13 Florida-07                                                               \n",
       "14 FloriGiant                                                               \n",
       "15 FloRun 107                                                               \n",
       "16 FloRun 157                                                               \n",
       "17 FloRun 331                                                               \n",
       "18 Georgia Green                                                            \n",
       "19 Georgia-06G                                                              \n",
       "20 Georgia-07W                                                              \n",
       "21 Georgia-09B                                                              \n",
       "22 Georgia-11J                                                              \n",
       "23 Georgia-12Y                                                              \n",
       "24 Gregory                                                                  \n",
       "25 Harris 1                                                                 \n",
       "   Pedigree                     FAG  \n",
       "1                               Check\n",
       "2                               ol ol\n",
       "3                               ol ol\n",
       "4                               Check\n",
       "5                               ol ol\n",
       "6                               Check\n",
       "7  BC1F1-06-01-S-03-S-05: F09   + +  \n",
       "8  BC3F1-02-01-S-02-S-02: F09   ol ol\n",
       "9                               ol ol\n",
       "10                              + +  \n",
       "11 BC1F1-03-01-01-02-02-01: F08 ol ol\n",
       "12                              ol ol\n",
       "13                              ol ol\n",
       "14                              + +  \n",
       "15                              ol ol\n",
       "16                              ol ol\n",
       "17                              ol ol\n",
       "18                              + +  \n",
       "19                              + +  \n",
       "20                              + +  \n",
       "21                              ol ol\n",
       "22                              ol ol\n",
       "23                              + +  \n",
       "24                              + +  \n",
       "25                              Check"
      ]
     },
     "metadata": {},
     "output_type": "display_data"
    }
   ],
   "source": [
    "# Read in the peanut lines csv file \n",
    "lines <- read.csv(\"https://raw.githubusercontent.com/jcdunne/CS590/R/Week%209/peanut_lines.csv\")\n",
    "head(lines, 25)"
   ]
  },
  {
   "cell_type": "markdown",
   "metadata": {},
   "source": [
    "Count the number of lines that have Bailey as a parent using grep()\n"
   ]
  },
  {
   "cell_type": "code",
   "execution_count": 27,
   "metadata": {},
   "outputs": [
    {
     "data": {
      "text/html": [
       "82"
      ],
      "text/latex": [
       "82"
      ],
      "text/markdown": [
       "82"
      ],
      "text/plain": [
       "[1] 82"
      ]
     },
     "metadata": {},
     "output_type": "display_data"
    }
   ],
   "source": [
    "length(grep('Bailey', lines$Parentage))"
   ]
  },
  {
   "cell_type": "code",
   "execution_count": 29,
   "metadata": {},
   "outputs": [
    {
     "data": {
      "text/html": [
       "<table>\n",
       "<thead><tr><th scope=col>NC_Accession</th><th scope=col>Parentage</th><th scope=col>Pedigree</th><th scope=col>FAG</th><th scope=col>Bailey_Parent</th></tr></thead>\n",
       "<tbody>\n",
       "\t<tr><td>ACI WT09-0761                                                            </td><td>ACI WT09-0761                                                            </td><td>                                                                         </td><td>Check                                                                    </td><td>No                                                                       </td></tr>\n",
       "\t<tr><td>ACI WT11-0351                                                            </td><td>ACI WT11-0351                                                            </td><td>                                                                         </td><td>ol ol                                                                    </td><td>No                                                                       </td></tr>\n",
       "\t<tr><td>ACI WT12-0226                                                            </td><td>ACI WT12-0226                                                            </td><td>                                                                         </td><td>ol ol                                                                    </td><td>No                                                                       </td></tr>\n",
       "\t<tr><td>ACI WT12-0419                                                            </td><td>ACI WT12-0419                                                            </td><td>                                                                         </td><td>Check                                                                    </td><td>No                                                                       </td></tr>\n",
       "\t<tr><td>ACI WT12-0420                                                            </td><td>ACI WT12-0420                                                            </td><td>                                                                         </td><td>ol ol                                                                    </td><td>No                                                                       </td></tr>\n",
       "\t<tr><td>ACI WT12-0433                                                            </td><td>ACI WT12-0433                                                            </td><td>                                                                         </td><td>Check                                                                    </td><td>No                                                                       </td></tr>\n",
       "\t<tr><td>Bailey                                                                   </td><td>NC 12C*2 / N96076L                                                       </td><td>BC1F1-06-01-S-03-S-05: F09                                               </td><td>+ +                                                                      </td><td>No                                                                       </td></tr>\n",
       "\t<tr><td>Bailey II                                                                </td><td>Bailey /4/ X07016, Bailey // X05027, Bailey / N02060ol, X05249 /3/ Bailey</td><td>BC3F1-02-01-S-02-S-02: F09                                               </td><td>ol ol                                                                    </td><td>Yes                                                                      </td></tr>\n",
       "\t<tr><td>Brantley                                                                 </td><td>Brantley                                                                 </td><td>                                                                         </td><td>ol ol                                                                    </td><td>No                                                                       </td></tr>\n",
       "\t<tr><td>CHAMPS                                                                   </td><td>CHAMPS                                                                   </td><td>                                                                         </td><td>+ +                                                                      </td><td>No                                                                       </td></tr>\n",
       "</tbody>\n",
       "</table>\n"
      ],
      "text/latex": [
       "\\begin{tabular}{r|lllll}\n",
       " NC\\_Accession & Parentage & Pedigree & FAG & Bailey\\_Parent\\\\\n",
       "\\hline\n",
       "\t ACI WT09-0761                                                             & ACI WT09-0761                                                             &                                                                           & Check                                                                     & No                                                                       \\\\\n",
       "\t ACI WT11-0351                                                             & ACI WT11-0351                                                             &                                                                           & ol ol                                                                     & No                                                                       \\\\\n",
       "\t ACI WT12-0226                                                             & ACI WT12-0226                                                             &                                                                           & ol ol                                                                     & No                                                                       \\\\\n",
       "\t ACI WT12-0419                                                             & ACI WT12-0419                                                             &                                                                           & Check                                                                     & No                                                                       \\\\\n",
       "\t ACI WT12-0420                                                             & ACI WT12-0420                                                             &                                                                           & ol ol                                                                     & No                                                                       \\\\\n",
       "\t ACI WT12-0433                                                             & ACI WT12-0433                                                             &                                                                           & Check                                                                     & No                                                                       \\\\\n",
       "\t Bailey                                                                    & NC 12C*2 / N96076L                                                        & BC1F1-06-01-S-03-S-05: F09                                                & + +                                                                       & No                                                                       \\\\\n",
       "\t Bailey II                                                                 & Bailey /4/ X07016, Bailey // X05027, Bailey / N02060ol, X05249 /3/ Bailey & BC3F1-02-01-S-02-S-02: F09                                                & ol ol                                                                     & Yes                                                                      \\\\\n",
       "\t Brantley                                                                  & Brantley                                                                  &                                                                           & ol ol                                                                     & No                                                                       \\\\\n",
       "\t CHAMPS                                                                    & CHAMPS                                                                    &                                                                           & + +                                                                       & No                                                                       \\\\\n",
       "\\end{tabular}\n"
      ],
      "text/markdown": [
       "\n",
       "| NC_Accession | Parentage | Pedigree | FAG | Bailey_Parent |\n",
       "|---|---|---|---|---|\n",
       "| ACI WT09-0761                                                             | ACI WT09-0761                                                             |                                                                           | Check                                                                     | No                                                                        |\n",
       "| ACI WT11-0351                                                             | ACI WT11-0351                                                             |                                                                           | ol ol                                                                     | No                                                                        |\n",
       "| ACI WT12-0226                                                             | ACI WT12-0226                                                             |                                                                           | ol ol                                                                     | No                                                                        |\n",
       "| ACI WT12-0419                                                             | ACI WT12-0419                                                             |                                                                           | Check                                                                     | No                                                                        |\n",
       "| ACI WT12-0420                                                             | ACI WT12-0420                                                             |                                                                           | ol ol                                                                     | No                                                                        |\n",
       "| ACI WT12-0433                                                             | ACI WT12-0433                                                             |                                                                           | Check                                                                     | No                                                                        |\n",
       "| Bailey                                                                    | NC 12C*2 / N96076L                                                        | BC1F1-06-01-S-03-S-05: F09                                                | + +                                                                       | No                                                                        |\n",
       "| Bailey II                                                                 | Bailey /4/ X07016, Bailey // X05027, Bailey / N02060ol, X05249 /3/ Bailey | BC3F1-02-01-S-02-S-02: F09                                                | ol ol                                                                     | Yes                                                                       |\n",
       "| Brantley                                                                  | Brantley                                                                  |                                                                           | ol ol                                                                     | No                                                                        |\n",
       "| CHAMPS                                                                    | CHAMPS                                                                    |                                                                           | + +                                                                       | No                                                                        |\n",
       "\n"
      ],
      "text/plain": [
       "   NC_Accession \n",
       "1  ACI WT09-0761\n",
       "2  ACI WT11-0351\n",
       "3  ACI WT12-0226\n",
       "4  ACI WT12-0419\n",
       "5  ACI WT12-0420\n",
       "6  ACI WT12-0433\n",
       "7  Bailey       \n",
       "8  Bailey II    \n",
       "9  Brantley     \n",
       "10 CHAMPS       \n",
       "   Parentage                                                                \n",
       "1  ACI WT09-0761                                                            \n",
       "2  ACI WT11-0351                                                            \n",
       "3  ACI WT12-0226                                                            \n",
       "4  ACI WT12-0419                                                            \n",
       "5  ACI WT12-0420                                                            \n",
       "6  ACI WT12-0433                                                            \n",
       "7  NC 12C*2 / N96076L                                                       \n",
       "8  Bailey /4/ X07016, Bailey // X05027, Bailey / N02060ol, X05249 /3/ Bailey\n",
       "9  Brantley                                                                 \n",
       "10 CHAMPS                                                                   \n",
       "   Pedigree                   FAG   Bailey_Parent\n",
       "1                             Check No           \n",
       "2                             ol ol No           \n",
       "3                             ol ol No           \n",
       "4                             Check No           \n",
       "5                             ol ol No           \n",
       "6                             Check No           \n",
       "7  BC1F1-06-01-S-03-S-05: F09 + +   No           \n",
       "8  BC3F1-02-01-S-02-S-02: F09 ol ol Yes          \n",
       "9                             ol ol No           \n",
       "10                            + +   No           "
      ]
     },
     "metadata": {},
     "output_type": "display_data"
    }
   ],
   "source": [
    "lines$Bailey_Parent <- ifelse(grepl('Bailey', lines$Parentage), 'Yes', 'No')\n",
    "head(lines, 10)"
   ]
  },
  {
   "cell_type": "markdown",
   "metadata": {},
   "source": [
    "What percentage of lines were developed using 'Bailey' are verified as high-oleic (Fatty Acid Genotype [FAG] = 'ol ol')? Round your answer to the tenth. Do not include the 'Check' lines.\n",
    "\n",
    "Note: Bailey (FAG) = '+ +', FAG = 'Check', means it hasn't been identified as high-oleic yet."
   ]
  },
  {
   "cell_type": "code",
   "execution_count": 32,
   "metadata": {},
   "outputs": [
    {
     "data": {
      "text/html": [
       "16.0944206008584"
      ],
      "text/latex": [
       "16.0944206008584"
      ],
      "text/markdown": [
       "16.0944206008584"
      ],
      "text/plain": [
       "[1] 16.09442"
      ]
     },
     "metadata": {},
     "output_type": "display_data"
    }
   ],
   "source": [
    "(sum(lines$Bailey_Parent == \"Yes\" & lines$FAG == 'ol ol')/nrow(lines))*100"
   ]
  },
  {
   "cell_type": "markdown",
   "metadata": {},
   "source": [
    "Replace the name 'Bailey' with the tested name 'N03081T' permanently for all instances in the 'Parentage' column.\n",
    "\n",
    "Show the first 10 lines"
   ]
  },
  {
   "cell_type": "code",
   "execution_count": 33,
   "metadata": {},
   "outputs": [
    {
     "data": {
      "text/html": [
       "<table>\n",
       "<thead><tr><th scope=col>NC_Accession</th><th scope=col>Parentage</th><th scope=col>Pedigree</th><th scope=col>FAG</th><th scope=col>Bailey_Parent</th></tr></thead>\n",
       "<tbody>\n",
       "\t<tr><td>ACI WT09-0761                                                                </td><td>ACI WT09-0761                                                                </td><td>                                                                             </td><td>Check                                                                        </td><td>No                                                                           </td></tr>\n",
       "\t<tr><td>ACI WT11-0351                                                                </td><td>ACI WT11-0351                                                                </td><td>                                                                             </td><td>ol ol                                                                        </td><td>No                                                                           </td></tr>\n",
       "\t<tr><td>ACI WT12-0226                                                                </td><td>ACI WT12-0226                                                                </td><td>                                                                             </td><td>ol ol                                                                        </td><td>No                                                                           </td></tr>\n",
       "\t<tr><td>ACI WT12-0419                                                                </td><td>ACI WT12-0419                                                                </td><td>                                                                             </td><td>Check                                                                        </td><td>No                                                                           </td></tr>\n",
       "\t<tr><td>ACI WT12-0420                                                                </td><td>ACI WT12-0420                                                                </td><td>                                                                             </td><td>ol ol                                                                        </td><td>No                                                                           </td></tr>\n",
       "\t<tr><td>ACI WT12-0433                                                                </td><td>ACI WT12-0433                                                                </td><td>                                                                             </td><td>Check                                                                        </td><td>No                                                                           </td></tr>\n",
       "\t<tr><td>Bailey                                                                       </td><td>NC 12C*2 / N96076L                                                           </td><td>BC1F1-06-01-S-03-S-05: F09                                                   </td><td>+ +                                                                          </td><td>No                                                                           </td></tr>\n",
       "\t<tr><td>Bailey II                                                                    </td><td>N03081T /4/ X07016, N03081T // X05027, N03081T / N02060ol, X05249 /3/ N03081T</td><td>BC3F1-02-01-S-02-S-02: F09                                                   </td><td>ol ol                                                                        </td><td>Yes                                                                          </td></tr>\n",
       "\t<tr><td>Brantley                                                                     </td><td>Brantley                                                                     </td><td>                                                                             </td><td>ol ol                                                                        </td><td>No                                                                           </td></tr>\n",
       "\t<tr><td>CHAMPS                                                                       </td><td>CHAMPS                                                                       </td><td>                                                                             </td><td>+ +                                                                          </td><td>No                                                                           </td></tr>\n",
       "</tbody>\n",
       "</table>\n"
      ],
      "text/latex": [
       "\\begin{tabular}{r|lllll}\n",
       " NC\\_Accession & Parentage & Pedigree & FAG & Bailey\\_Parent\\\\\n",
       "\\hline\n",
       "\t ACI WT09-0761                                                                 & ACI WT09-0761                                                                 &                                                                               & Check                                                                         & No                                                                           \\\\\n",
       "\t ACI WT11-0351                                                                 & ACI WT11-0351                                                                 &                                                                               & ol ol                                                                         & No                                                                           \\\\\n",
       "\t ACI WT12-0226                                                                 & ACI WT12-0226                                                                 &                                                                               & ol ol                                                                         & No                                                                           \\\\\n",
       "\t ACI WT12-0419                                                                 & ACI WT12-0419                                                                 &                                                                               & Check                                                                         & No                                                                           \\\\\n",
       "\t ACI WT12-0420                                                                 & ACI WT12-0420                                                                 &                                                                               & ol ol                                                                         & No                                                                           \\\\\n",
       "\t ACI WT12-0433                                                                 & ACI WT12-0433                                                                 &                                                                               & Check                                                                         & No                                                                           \\\\\n",
       "\t Bailey                                                                        & NC 12C*2 / N96076L                                                            & BC1F1-06-01-S-03-S-05: F09                                                    & + +                                                                           & No                                                                           \\\\\n",
       "\t Bailey II                                                                     & N03081T /4/ X07016, N03081T // X05027, N03081T / N02060ol, X05249 /3/ N03081T & BC3F1-02-01-S-02-S-02: F09                                                    & ol ol                                                                         & Yes                                                                          \\\\\n",
       "\t Brantley                                                                      & Brantley                                                                      &                                                                               & ol ol                                                                         & No                                                                           \\\\\n",
       "\t CHAMPS                                                                        & CHAMPS                                                                        &                                                                               & + +                                                                           & No                                                                           \\\\\n",
       "\\end{tabular}\n"
      ],
      "text/markdown": [
       "\n",
       "| NC_Accession | Parentage | Pedigree | FAG | Bailey_Parent |\n",
       "|---|---|---|---|---|\n",
       "| ACI WT09-0761                                                                 | ACI WT09-0761                                                                 |                                                                               | Check                                                                         | No                                                                            |\n",
       "| ACI WT11-0351                                                                 | ACI WT11-0351                                                                 |                                                                               | ol ol                                                                         | No                                                                            |\n",
       "| ACI WT12-0226                                                                 | ACI WT12-0226                                                                 |                                                                               | ol ol                                                                         | No                                                                            |\n",
       "| ACI WT12-0419                                                                 | ACI WT12-0419                                                                 |                                                                               | Check                                                                         | No                                                                            |\n",
       "| ACI WT12-0420                                                                 | ACI WT12-0420                                                                 |                                                                               | ol ol                                                                         | No                                                                            |\n",
       "| ACI WT12-0433                                                                 | ACI WT12-0433                                                                 |                                                                               | Check                                                                         | No                                                                            |\n",
       "| Bailey                                                                        | NC 12C*2 / N96076L                                                            | BC1F1-06-01-S-03-S-05: F09                                                    | + +                                                                           | No                                                                            |\n",
       "| Bailey II                                                                     | N03081T /4/ X07016, N03081T // X05027, N03081T / N02060ol, X05249 /3/ N03081T | BC3F1-02-01-S-02-S-02: F09                                                    | ol ol                                                                         | Yes                                                                           |\n",
       "| Brantley                                                                      | Brantley                                                                      |                                                                               | ol ol                                                                         | No                                                                            |\n",
       "| CHAMPS                                                                        | CHAMPS                                                                        |                                                                               | + +                                                                           | No                                                                            |\n",
       "\n"
      ],
      "text/plain": [
       "   NC_Accession \n",
       "1  ACI WT09-0761\n",
       "2  ACI WT11-0351\n",
       "3  ACI WT12-0226\n",
       "4  ACI WT12-0419\n",
       "5  ACI WT12-0420\n",
       "6  ACI WT12-0433\n",
       "7  Bailey       \n",
       "8  Bailey II    \n",
       "9  Brantley     \n",
       "10 CHAMPS       \n",
       "   Parentage                                                                    \n",
       "1  ACI WT09-0761                                                                \n",
       "2  ACI WT11-0351                                                                \n",
       "3  ACI WT12-0226                                                                \n",
       "4  ACI WT12-0419                                                                \n",
       "5  ACI WT12-0420                                                                \n",
       "6  ACI WT12-0433                                                                \n",
       "7  NC 12C*2 / N96076L                                                           \n",
       "8  N03081T /4/ X07016, N03081T // X05027, N03081T / N02060ol, X05249 /3/ N03081T\n",
       "9  Brantley                                                                     \n",
       "10 CHAMPS                                                                       \n",
       "   Pedigree                   FAG   Bailey_Parent\n",
       "1                             Check No           \n",
       "2                             ol ol No           \n",
       "3                             ol ol No           \n",
       "4                             Check No           \n",
       "5                             ol ol No           \n",
       "6                             Check No           \n",
       "7  BC1F1-06-01-S-03-S-05: F09 + +   No           \n",
       "8  BC3F1-02-01-S-02-S-02: F09 ol ol Yes          \n",
       "9                             ol ol No           \n",
       "10                            + +   No           "
      ]
     },
     "metadata": {},
     "output_type": "display_data"
    }
   ],
   "source": [
    "lines$Parentage <- gsub('Bailey', 'N03081T', lines$Parentage)\n",
    "head(lines, 10)"
   ]
  },
  {
   "cell_type": "code",
   "execution_count": 34,
   "metadata": {},
   "outputs": [],
   "source": [
    "yields <- read.table('https://raw.githubusercontent.com/jcdunne/CS590/R/Week%209/peanut_yield.txt', sep = '\\t', header = TRUE)"
   ]
  },
  {
   "cell_type": "code",
   "execution_count": 43,
   "metadata": {},
   "outputs": [
    {
     "data": {
      "text/html": [
       "<table>\n",
       "<thead><tr><th></th><th scope=col>Yield</th></tr></thead>\n",
       "<tbody>\n",
       "\t<tr><th scope=row>Bailey</th><td>3562.154</td></tr>\n",
       "\t<tr><th scope=row>Other</th><td>3713.964</td></tr>\n",
       "</tbody>\n",
       "</table>\n"
      ],
      "text/latex": [
       "\\begin{tabular}{r|l}\n",
       "  & Yield\\\\\n",
       "\\hline\n",
       "\tBailey & 3562.154\\\\\n",
       "\tOther & 3713.964\\\\\n",
       "\\end{tabular}\n"
      ],
      "text/markdown": [
       "\n",
       "| <!--/--> | Yield |\n",
       "|---|---|\n",
       "| Bailey | 3562.154 |\n",
       "| Other | 3713.964 |\n",
       "\n"
      ],
      "text/plain": [
       "       Yield   \n",
       "Bailey 3562.154\n",
       "Other  3713.964"
      ]
     },
     "metadata": {},
     "output_type": "display_data"
    }
   ],
   "source": [
    "peanut_db <- merge(lines, yields, by = 'NC_Accession', all.y = TRUE)\n",
    "\n",
    "Bailey_AVG <- mean(peanut_db$Yield[peanut_db$NC_Accession == 'Bailey'], na.rm = TRUE)\n",
    "Other_AVG <- mean(peanut_db$Yield[peanut_db$Bailey_Parent == 'Yes'], na.rm = TRUE)\n",
    "\n",
    "Results <- c(Bailey = Bailey_AVG, Other = Other_AVG)\n",
    "\n",
    "data.frame(Yield = Results)"
   ]
  },
  {
   "cell_type": "code",
   "execution_count": null,
   "metadata": {},
   "outputs": [],
   "source": []
  }
 ],
 "metadata": {
  "kernelspec": {
   "display_name": "R",
   "language": "R",
   "name": "ir"
  },
  "language_info": {
   "codemirror_mode": "r",
   "file_extension": ".r",
   "mimetype": "text/x-r-source",
   "name": "R",
   "pygments_lexer": "r",
   "version": "3.6.1"
  }
 },
 "nbformat": 4,
 "nbformat_minor": 2
}
