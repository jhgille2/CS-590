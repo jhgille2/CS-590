{
 "cells": [
  {
   "cell_type": "markdown",
   "metadata": {},
   "source": [
    "![](logo.png)"
   ]
  },
  {
   "cell_type": "markdown",
   "metadata": {},
   "source": [
    "# <font color='red'>Week 7 - Python Programming Exercise Solutions</font>\n",
    "\n",
    "Let's use **while** loops to create a guessing game.\n",
    "\n",
    "The Challenge:\n",
    "\n",
    "    Write a program that picks a random integer from 1 to 100, and has players guess the number. The rules are:\n",
    "\n",
    "    If a player's guess is less than 1 or greater than 100, say \"OUT OF BOUNDS\" and ask for the input again\n",
    "\n",
    "    On a player's first turn, if their guess is\n",
    "    within 10 of the number, return \"WARM!\"\n",
    "\n",
    "    further than 10 away from the number, return \"COLD!\"\n",
    "\n",
    "    On all subsequent turns, if a guess is\n",
    "    closer to the number than the previous guess return \"WARMER!\"\n",
    "\n",
    "    farther from the number than the previous guess, return \"COLDER!\"\n",
    "\n",
    "    When the player's guess equals the number, tell them they've guessed correctly and how many guesses it took!"
   ]
  },
  {
   "cell_type": "markdown",
   "metadata": {},
   "source": [
    "#### First, pick a random integer from 1 to 100 and assign it to a variable\n",
    "\n",
    "Note: **sample()** allows you to select a random integer between two values - run help(sample) to determine the syntax"
   ]
  },
  {
   "cell_type": "code",
   "execution_count": 5,
   "metadata": {},
   "outputs": [],
   "source": [
    "# Code Here\n",
    "num <- sample(c(1:100), 1)\n"
   ]
  },
  {
   "cell_type": "code",
   "execution_count": null,
   "metadata": {},
   "outputs": [],
   "source": [
    "num"
   ]
  },
  {
   "cell_type": "markdown",
   "metadata": {},
   "source": [
    "#### Next, print an introduction to the game and explain the rules"
   ]
  },
  {
   "cell_type": "code",
   "execution_count": 1,
   "metadata": {},
   "outputs": [
    {
     "name": "stdout",
     "output_type": "stream",
     "text": [
      "[1] \"WELCOME TO GUESS ME!\"\n",
      "[1] \"I'm thinking of a number between 1 and 100\"\n",
      "[1] \"If your guess is more than 10 away from my number, I'll tell you you're COLD\"\n",
      "[1] \"If your guess is within 10 of my number, I'll tell you you're WARM\"\n",
      "[1] \"If your guess is farther than your most recent guess, I'll say you're getting COLDER\"\n",
      "[1] \"If your guess is closer than your most recent guess, I'll say you're getting WARMER\"\n",
      "[1] \"LET'S PLAY!\"\n"
     ]
    }
   ],
   "source": [
    "# Code Here\n",
    "Rules <- c(\"WELCOME TO GUESS ME!\", \"I'm thinking of a number between 1 and 100\", \"If your guess is more than 10 away from my number, I'll tell you you're COLD\", \"If your guess is within 10 of my number, I'll tell you you're WARM\", \"If your guess is farther than your most recent guess, I'll say you're getting COLDER\", \"If your guess is closer than your most recent guess, I'll say you're getting WARMER\", \"LET'S PLAY!\")\n",
    "\n",
    "for(i in 1:length(Rules)){\n",
    "    print(Rules[[i]])\n",
    "}"
   ]
  },
  {
   "cell_type": "markdown",
   "metadata": {},
   "source": [
    "[1] \"WELCOME TO GUESS ME!\"\n",
    "<br>[1] \"I'm thinking of a number between 1 and 100\"\n",
    "<br>[1] \"If your guess is more than 10 away from my number, I'll tell you you're COLD\"\n",
    "<br>[1] \"If your guess is within 10 of my number, I'll tell you you're WARM\"\n",
    "<br>[1] \"If your guess is farther than your most recent guess, I'll say you're getting COLDER\"\n",
    "<br>[1] \"If your guess is closer than your most recent guess, I'll say you're getting WARMER\"\n",
    "<br>[1] \"LET'S PLAY!\""
   ]
  },
  {
   "cell_type": "markdown",
   "metadata": {},
   "source": [
    "#### Create a list to store guesses\n",
    "\n",
    "HINT: Zero is a good placeholder value. It's useful because it evaluates to \"FALSE\" based on the conditions of the game"
   ]
  },
  {
   "cell_type": "code",
   "execution_count": 4,
   "metadata": {},
   "outputs": [],
   "source": [
    "# Code Here\n",
    "guesses <- list(0)"
   ]
  },
  {
   "cell_type": "code",
   "execution_count": 5,
   "metadata": {},
   "outputs": [
    {
     "data": {
      "text/html": [
       "<ol>\n",
       "\t<li>0</li>\n",
       "</ol>\n"
      ],
      "text/latex": [
       "\\begin{enumerate}\n",
       "\\item 0\n",
       "\\end{enumerate}\n"
      ],
      "text/markdown": [
       "1. 0\n",
       "\n",
       "\n"
      ],
      "text/plain": [
       "[[1]]\n",
       "[1] 0\n"
      ]
     },
     "metadata": {},
     "output_type": "display_data"
    }
   ],
   "source": [
    "guesses"
   ]
  },
  {
   "cell_type": "markdown",
   "metadata": {},
   "source": [
    "0"
   ]
  },
  {
   "cell_type": "markdown",
   "metadata": {},
   "source": [
    "#### Write a **while** loop that asks for a valid guess. Test it a few times to make sure it works.\n",
    "\n",
    "NOTE: Use the built-in R function **readlines()** to get user input. Use **message()** to print text to the console while the loop is running"
   ]
  },
  {
   "cell_type": "code",
   "execution_count": null,
   "metadata": {},
   "outputs": [],
   "source": [
    "# Use readline() to get a user input prompt. The system will print the user input after pressing enter\n",
    "#This can be stored as a variable and used in the while loop\n",
    "readline(prompt=\"Run to get a user prompt \")"
   ]
  },
  {
   "cell_type": "code",
   "execution_count": 6,
   "metadata": {
    "scrolled": true
   },
   "outputs": [
    {
     "name": "stdout",
     "output_type": "stream",
     "text": [
      "Type a guess between 1 and 100: 50\n"
     ]
    },
    {
     "data": {
      "text/html": [
       "50"
      ],
      "text/latex": [
       "50"
      ],
      "text/markdown": [
       "50"
      ],
      "text/plain": [
       "[1] 50"
      ]
     },
     "metadata": {},
     "output_type": "display_data"
    }
   ],
   "source": [
    "# Code Here\n",
    "Guess <- as.numeric(readline(prompt = \"Type a guess between 1 and 100: \"))\n",
    "Guess"
   ]
  },
  {
   "cell_type": "markdown",
   "metadata": {},
   "source": [
    "Guess a number between 1 and 100.\n",
    "<br>What is your guess? 101\n",
    "<br>OUT OF BOUNDS. Please Try Again:\n",
    "<br>Guess a number between 1 and 100.\n",
    "<br>What is your guess? 5"
   ]
  },
  {
   "cell_type": "markdown",
   "metadata": {},
   "source": [
    "#### Write a **while** loop that compares the player's guess to our number. If the player guesses correctly, break from the loop. Otherwise, tell the player if they're warmer or colder, and continue asking for guesses.\n",
    "\n",
    "Some hints:\n",
    "* It may help to sketch out all possible combinations on paper first\n",
    "* Use a difference of 10 to suggest warm or cold\n",
    "* you can use the **abs()** function to find the positive difference between two numbers\n",
    "* Use **append()** to append all new guesses to the list, then the previous guess is given as guesses[length(guesses)-1]\n",
    "* For the initial guess, lenght(guesses)-1 == 0, which resolves to FALSE. Use this to determine warm and cold vs warmer and colder"
   ]
  },
  {
   "cell_type": "code",
   "execution_count": 7,
   "metadata": {},
   "outputs": [
    {
     "name": "stdout",
     "output_type": "stream",
     "text": [
      "Type a guess between 1 and 100: 20\n"
     ]
    },
    {
     "name": "stderr",
     "output_type": "stream",
     "text": [
      "Warmer\n"
     ]
    },
    {
     "name": "stdout",
     "output_type": "stream",
     "text": [
      "Type a guess between 1 and 100: 30\n"
     ]
    },
    {
     "name": "stderr",
     "output_type": "stream",
     "text": [
      "Colder!\n"
     ]
    },
    {
     "name": "stdout",
     "output_type": "stream",
     "text": [
      "Type a guess between 1 and 100: 25\n"
     ]
    },
    {
     "name": "stderr",
     "output_type": "stream",
     "text": [
      "Warmer\n"
     ]
    },
    {
     "name": "stdout",
     "output_type": "stream",
     "text": [
      "Type a guess between 1 and 100: 26\n"
     ]
    },
    {
     "name": "stderr",
     "output_type": "stream",
     "text": [
      "Colder!\n"
     ]
    },
    {
     "name": "stdout",
     "output_type": "stream",
     "text": [
      "Type a guess between 1 and 100: 24\n"
     ]
    },
    {
     "name": "stderr",
     "output_type": "stream",
     "text": [
      "Warmer\n"
     ]
    },
    {
     "name": "stdout",
     "output_type": "stream",
     "text": [
      "Type a guess between 1 and 100: 23\n"
     ]
    },
    {
     "name": "stderr",
     "output_type": "stream",
     "text": [
      "Warmer\n"
     ]
    },
    {
     "name": "stdout",
     "output_type": "stream",
     "text": [
      "Type a guess between 1 and 100: 22\n"
     ]
    },
    {
     "name": "stderr",
     "output_type": "stream",
     "text": [
      "Warmer\n"
     ]
    },
    {
     "name": "stdout",
     "output_type": "stream",
     "text": [
      "Type a guess between 1 and 100: 21\n"
     ]
    },
    {
     "name": "stderr",
     "output_type": "stream",
     "text": [
      "Warmer\n"
     ]
    },
    {
     "name": "stdout",
     "output_type": "stream",
     "text": [
      "Type a guess between 1 and 100: 20\n"
     ]
    },
    {
     "name": "stderr",
     "output_type": "stream",
     "text": [
      "Warmer\n"
     ]
    },
    {
     "name": "stdout",
     "output_type": "stream",
     "text": [
      "Type a guess between 1 and 100: 15\n"
     ]
    },
    {
     "name": "stderr",
     "output_type": "stream",
     "text": [
      "Warmer\n"
     ]
    },
    {
     "name": "stdout",
     "output_type": "stream",
     "text": [
      "Type a guess between 1 and 100: 14\n"
     ]
    },
    {
     "name": "stderr",
     "output_type": "stream",
     "text": [
      "Colder!\n"
     ]
    },
    {
     "name": "stdout",
     "output_type": "stream",
     "text": [
      "Type a guess between 1 and 100: 17\n"
     ]
    },
    {
     "name": "stderr",
     "output_type": "stream",
     "text": [
      "Warmer\n"
     ]
    }
   ],
   "source": [
    "# Code Here\n",
    "LastGuess <- -999\n",
    "GuessDiff <- abs(Guess - num)\n",
    "Guessdiff_Last <- -999\n",
    "\n",
    "if(Guess == num){\n",
    "    message(\"You guessed correctly on the first guess\")\n",
    "}\n",
    "\n",
    "while(Guess != num){\n",
    "    LastGuess <- Guess\n",
    "    Guess <- as.numeric(readline(prompt = \"Type a guess between 1 and 100: \"))\n",
    "    \n",
    "    GuessDiff_Last <- abs(num - LastGuess)\n",
    "    GuessDiff <- abs(Guess - num)\n",
    "    \n",
    "    if(GuessDiff_Last < GuessDiff){\n",
    "        message(\"Colder!\")\n",
    "    }else if(GuessDiff_Last > GuessDiff){\n",
    "        message('Warmer!')\n",
    "    }else if(GuessDiff_Last == GuessDiff){\n",
    "        message('That guess was the same value away from my number as your last guess')\n",
    "    }\n",
    "}\n"
   ]
  },
  {
   "cell_type": "markdown",
   "metadata": {},
   "source": [
    "Guess a number between 1 and 100.\n",
    "<br>What is your guess? 21\n",
    "<br>COLD!\n",
    "<br>Guess a number between 1 and 100.\n",
    "<br>What is your guess? 50\n",
    "<br>WARMER!\n",
    "<br>Guess a number between 1 and 100.\n",
    "<br>What is your guess? 79\n",
    "<br>COLDER!\n",
    "<br>Guess a number between 1 and 100.\n",
    "<br>What is your guess? 65\n",
    "<br>WARMER!\n",
    "<br>Guess a number between 1 and 100.\n",
    "<br>What is your guess? 62\n",
    "<br>WARMER!\n",
    "<br>Guess a number between 1 and 100.\n",
    "<br>What is your guess? 60\n",
    "<br>CONGRATULATIONS, YOU GUESSED IT IN ONLY 6 GUESSES"
   ]
  },
  {
   "cell_type": "markdown",
   "metadata": {},
   "source": [
    "#### Lastly, compile everything together in a single cell to run, including the random integer and the list for compiling the guesses"
   ]
  },
  {
   "cell_type": "code",
   "execution_count": 8,
   "metadata": {},
   "outputs": [
    {
     "name": "stdout",
     "output_type": "stream",
     "text": [
      "Type a guess between 1 and 100: 50\n"
     ]
    },
    {
     "name": "stderr",
     "output_type": "stream",
     "text": [
      "Cold!\n"
     ]
    },
    {
     "name": "stdout",
     "output_type": "stream",
     "text": [
      "Type a guess between 1 and 100: 40\n"
     ]
    },
    {
     "name": "stderr",
     "output_type": "stream",
     "text": [
      "Warmer!\n"
     ]
    },
    {
     "name": "stdout",
     "output_type": "stream",
     "text": [
      "Type a guess between 1 and 100: 30\n"
     ]
    },
    {
     "name": "stderr",
     "output_type": "stream",
     "text": [
      "Warmer!\n"
     ]
    },
    {
     "name": "stdout",
     "output_type": "stream",
     "text": [
      "Type a guess between 1 and 100: 20\n"
     ]
    },
    {
     "name": "stderr",
     "output_type": "stream",
     "text": [
      "Warmer!\n"
     ]
    },
    {
     "name": "stdout",
     "output_type": "stream",
     "text": [
      "Type a guess between 1 and 100: 10\n"
     ]
    },
    {
     "name": "stderr",
     "output_type": "stream",
     "text": [
      "Warmer!\n"
     ]
    },
    {
     "name": "stdout",
     "output_type": "stream",
     "text": [
      "Type a guess between 1 and 100: 5\n"
     ]
    },
    {
     "name": "stderr",
     "output_type": "stream",
     "text": [
      "Colder!\n"
     ]
    },
    {
     "name": "stdout",
     "output_type": "stream",
     "text": [
      "Type a guess between 1 and 100: 7\n"
     ]
    },
    {
     "name": "stderr",
     "output_type": "stream",
     "text": [
      "Warmer!\n"
     ]
    },
    {
     "name": "stdout",
     "output_type": "stream",
     "text": [
      "Type a guess between 1 and 100: 8\n"
     ]
    },
    {
     "name": "stderr",
     "output_type": "stream",
     "text": [
      "Warmer!\n"
     ]
    },
    {
     "name": "stdout",
     "output_type": "stream",
     "text": [
      "Type a guess between 1 and 100: 9\n"
     ]
    },
    {
     "name": "stderr",
     "output_type": "stream",
     "text": [
      "Warmer!\n"
     ]
    },
    {
     "name": "stdout",
     "output_type": "stream",
     "text": [
      "Type a guess between 1 and 100: 13\n"
     ]
    },
    {
     "name": "stderr",
     "output_type": "stream",
     "text": [
      "That guess is the same value away from my number as your last guess\n"
     ]
    },
    {
     "name": "stdout",
     "output_type": "stream",
     "text": [
      "Type a guess between 1 and 100: 11\n"
     ]
    },
    {
     "name": "stderr",
     "output_type": "stream",
     "text": [
      "You guessed correctly. It took 11 guesses\n"
     ]
    }
   ],
   "source": [
    "Guess <- -999 # So that it'll always run at least once\n",
    "Num <- sample(c(1:100), 1)\n",
    "PrevGuess <- -999\n",
    "nGuess <- 0\n",
    "BestGuess <- -999\n",
    "\n",
    "\n",
    "while(Guess!= Num){\n",
    "  # Ask for a number guess, increment nGuess\n",
    "  Guess <- as.numeric(readline(prompt = \"Type a guess between 1 and 100: \"))\n",
    "  nGuess <- nGuess + 1\n",
    "  if(Guess == Num){\n",
    "    return(message(paste('You guessed correctly. It took', nGuess , 'guesses')))\n",
    "  }\n",
    "  \n",
    "  if(Guess < 0 | Guess > 100){\n",
    "    message(\"OUT OF BOUNDS, Please try again\")\n",
    "  }\n",
    "  \n",
    "  PrevDiff <- abs(PrevGuess - Num)\n",
    "  GuessDiff <- abs(Guess - Num)\n",
    "  \n",
    "  if(nGuess == 1){\n",
    "    PrevGuess <- Guess\n",
    "    if(abs(Guess - Num) <= 10){\n",
    "      message('Warm!')\n",
    "    }else if(abs(Guess - Num) > 10){\n",
    "      message(\"Cold!\")\n",
    "    }\n",
    "  } else{\n",
    "    if(GuessDiff < PrevDiff){\n",
    "      message(\"Warmer!\")\n",
    "      PrevGuess <- Guess\n",
    "\n",
    "    }else if(GuessDiff > PrevDiff){\n",
    "      message('Colder!')\n",
    "      PrevGuess <- Guess\n",
    "\n",
    "    } else if(GuessDiff == PrevDiff){\n",
    "      message(\"That guess is the same value away from my number as your last guess\")\n",
    "    }\n",
    "  }\n",
    "  \n",
    "  \n",
    "}\n",
    "\n"
   ]
  },
  {
   "cell_type": "code",
   "execution_count": null,
   "metadata": {},
   "outputs": [],
   "source": []
  }
 ],
 "metadata": {
  "kernelspec": {
   "display_name": "R",
   "language": "R",
   "name": "ir"
  }
 },
 "nbformat": 4,
 "nbformat_minor": 2
}
