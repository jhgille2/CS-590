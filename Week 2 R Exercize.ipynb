{
 "cells": [
  {
   "cell_type": "code",
   "execution_count": null,
   "metadata": {},
   "outputs": [],
   "source": [
    "# What is two to the power of five?\n",
    "\n",
    "2**5\n",
    "\n",
    "# Create a vector called peanut.weight with the following data points:\n",
    "\n",
    "peanut.weight<- c(89.4, 78.2, 91.4, 95.2, 105.5)\n",
    "peanut.weight\n",
    "\n",
    "# Assign the following names (in order) to the peanut.weight vector:\n",
    "\n",
    "names(peanut.weight) <-  c(\"Sullivan\", \"Bailey\", \"Bailey II\", \"Emery\", \"Wynne\")\n",
    "peanut.weight\n",
    "\n",
    "# What was the average weight of all peanut lines?\n",
    "mean(peanut.weight)\n",
    "\n",
    "\n",
    "# Create a vector called over.90 consisting of logicals that correspond to the peanut lines where the weight was more than 90 grams per 100 seeds\n",
    "over.90 <- peanut.weight[peanut.weight > 90]\n",
    "over.90\n",
    "\n",
    "# Bailey II 91.4\n",
    "# Emery 95.2\n",
    "# Wynne 105.5\n",
    "\n",
    "# Use a built-in R function to find the peanut line with the smallest seed\n",
    "over.90[over.90 == min(over.90)]\n",
    "\n",
    "# Format the following variables to print the resulting sentence\n",
    "\n",
    "Cultivar = 'Bailey'\n",
    "Weight = '91.4 grams per 100 seeds'\n",
    "\n",
    "# 'The cultivar Bailey has a seed weight of 91.4 grams per 100 seeds\n",
    "sprintf('The cultivar %s has a seed weight of %s', Cultivar, Weight)"
   ]
  }
 ],
 "metadata": {
  "kernelspec": {
   "display_name": "R",
   "language": "R",
   "name": "ir"
  },
  "language_info": {
   "codemirror_mode": "r",
   "file_extension": ".r",
   "mimetype": "text/x-r-source",
   "name": "R",
   "pygments_lexer": "r",
   "version": "3.6.1"
  }
 },
 "nbformat": 4,
 "nbformat_minor": 2
}
