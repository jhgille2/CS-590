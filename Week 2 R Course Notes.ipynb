{
 "cells": [
  {
   "cell_type": "code",
   "execution_count": 63,
   "metadata": {},
   "outputs": [
    {
     "data": {
      "text/html": [
       "32"
      ],
      "text/latex": [
       "32"
      ],
      "text/markdown": [
       "32"
      ],
      "text/plain": [
       "[1] 32"
      ]
     },
     "metadata": {},
     "output_type": "display_data"
    },
    {
     "data": {
      "text/html": [
       "<ol class=list-inline>\n",
       "\t<li>89.4</li>\n",
       "\t<li>78.2</li>\n",
       "\t<li>91.4</li>\n",
       "\t<li>95.2</li>\n",
       "\t<li>105.5</li>\n",
       "</ol>\n"
      ],
      "text/latex": [
       "\\begin{enumerate*}\n",
       "\\item 89.4\n",
       "\\item 78.2\n",
       "\\item 91.4\n",
       "\\item 95.2\n",
       "\\item 105.5\n",
       "\\end{enumerate*}\n"
      ],
      "text/markdown": [
       "1. 89.4\n",
       "2. 78.2\n",
       "3. 91.4\n",
       "4. 95.2\n",
       "5. 105.5\n",
       "\n",
       "\n"
      ],
      "text/plain": [
       "[1]  89.4  78.2  91.4  95.2 105.5"
      ]
     },
     "metadata": {},
     "output_type": "display_data"
    },
    {
     "data": {
      "text/html": [
       "<dl class=dl-horizontal>\n",
       "\t<dt>Sullivan</dt>\n",
       "\t\t<dd>89.4</dd>\n",
       "\t<dt>Bailey</dt>\n",
       "\t\t<dd>78.2</dd>\n",
       "\t<dt>Bailey II</dt>\n",
       "\t\t<dd>91.4</dd>\n",
       "\t<dt>Emery</dt>\n",
       "\t\t<dd>95.2</dd>\n",
       "\t<dt>Wynne</dt>\n",
       "\t\t<dd>105.5</dd>\n",
       "</dl>\n"
      ],
      "text/latex": [
       "\\begin{description*}\n",
       "\\item[Sullivan] 89.4\n",
       "\\item[Bailey] 78.2\n",
       "\\item[Bailey II] 91.4\n",
       "\\item[Emery] 95.2\n",
       "\\item[Wynne] 105.5\n",
       "\\end{description*}\n"
      ],
      "text/markdown": [
       "Sullivan\n",
       ":   89.4Bailey\n",
       ":   78.2Bailey II\n",
       ":   91.4Emery\n",
       ":   95.2Wynne\n",
       ":   105.5\n",
       "\n"
      ],
      "text/plain": [
       " Sullivan    Bailey Bailey II     Emery     Wynne \n",
       "     89.4      78.2      91.4      95.2     105.5 "
      ]
     },
     "metadata": {},
     "output_type": "display_data"
    },
    {
     "data": {
      "text/html": [
       "91.94"
      ],
      "text/latex": [
       "91.94"
      ],
      "text/markdown": [
       "91.94"
      ],
      "text/plain": [
       "[1] 91.94"
      ]
     },
     "metadata": {},
     "output_type": "display_data"
    },
    {
     "data": {
      "text/html": [
       "<dl class=dl-horizontal>\n",
       "\t<dt>Bailey II</dt>\n",
       "\t\t<dd>91.4</dd>\n",
       "\t<dt>Emery</dt>\n",
       "\t\t<dd>95.2</dd>\n",
       "\t<dt>Wynne</dt>\n",
       "\t\t<dd>105.5</dd>\n",
       "</dl>\n"
      ],
      "text/latex": [
       "\\begin{description*}\n",
       "\\item[Bailey II] 91.4\n",
       "\\item[Emery] 95.2\n",
       "\\item[Wynne] 105.5\n",
       "\\end{description*}\n"
      ],
      "text/markdown": [
       "Bailey II\n",
       ":   91.4Emery\n",
       ":   95.2Wynne\n",
       ":   105.5\n",
       "\n"
      ],
      "text/plain": [
       "Bailey II     Emery     Wynne \n",
       "     91.4      95.2     105.5 "
      ]
     },
     "metadata": {},
     "output_type": "display_data"
    },
    {
     "data": {
      "text/html": [
       "<strong>Bailey II:</strong> 91.4"
      ],
      "text/latex": [
       "\\textbf{Bailey II:} 91.4"
      ],
      "text/markdown": [
       "**Bailey II:** 91.4"
      ],
      "text/plain": [
       "Bailey II \n",
       "     91.4 "
      ]
     },
     "metadata": {},
     "output_type": "display_data"
    },
    {
     "data": {
      "text/html": [
       "'The cultivar Bailey has a seed weight of 91.4 grams per 100 seeds'"
      ],
      "text/latex": [
       "'The cultivar Bailey has a seed weight of 91.4 grams per 100 seeds'"
      ],
      "text/markdown": [
       "'The cultivar Bailey has a seed weight of 91.4 grams per 100 seeds'"
      ],
      "text/plain": [
       "[1] \"The cultivar Bailey has a seed weight of 91.4 grams per 100 seeds\""
      ]
     },
     "metadata": {},
     "output_type": "display_data"
    }
   ],
   "source": [
    "# What is two to the power of five?\n",
    "\n",
    "2**5\n",
    "\n",
    "# Create a vector called peanut.weight with the following data points:\n",
    "\n",
    "peanut.weight<- c(89.4, 78.2, 91.4, 95.2, 105.5)\n",
    "peanut.weight\n",
    "\n",
    "# Assign the following names (in order) to the peanut.weight vector:\n",
    "\n",
    "names(peanut.weight) <-  c(\"Sullivan\", \"Bailey\", \"Bailey II\", \"Emery\", \"Wynne\")\n",
    "peanut.weight\n",
    "\n",
    "# What was the average weight of all peanut lines?\n",
    "mean(peanut.weight)\n",
    "\n",
    "\n",
    "# Create a vector called over.90 consisting of logicals that correspond to the peanut lines where the weight was more than 90 grams per 100 seeds\n",
    "over.90 <- peanut.weight[peanut.weight > 90]\n",
    "over.90\n",
    "\n",
    "# Bailey II 91.4\n",
    "# Emery 95.2\n",
    "# Wynne 105.5\n",
    "\n",
    "# Use a built-in R function to find the peanut line with the smallest seed\n",
    "over.90[over.90 == min(over.90)]\n",
    "\n",
    "# Format the following variables to print the resulting sentence\n",
    "\n",
    "Cultivar = 'Bailey'\n",
    "Weight = '91.4 grams per 100 seeds'\n",
    "\n",
    "# 'The cultivar Bailey has a seed weight of 91.4 grams per 100 seeds\n",
    "sprintf('The cultivar %s has a seed weight of %s', Cultivar, Weight)\n",
    "\n",
    "\n"
   ]
  },
  {
   "cell_type": "code",
   "execution_count": 7,
   "metadata": {},
   "outputs": [
    {
     "name": "stdout",
     "output_type": "stream",
     "text": [
      "[1] 110\n",
      "[1] 125.5\n",
      "[1] 141.775\n",
      "[1] 158.8638\n",
      "[1] 176.8069\n",
      "[1] 195.6473\n",
      "[1] 215.4296\n",
      "[1] 236.2011\n",
      "[1] 258.0112\n",
      "[1] 280.9117\n"
     ]
    },
    {
     "data": {
      "image/png": "[encoded data removed]",
      "text/plain": [
       "plot without title"
      ]
     },
     "metadata": {},
     "output_type": "display_data"
    }
   ],
   "source": [
    "# Bank Account\n",
    "Bank.Balance <- 100\n",
    "\n",
    "# Interest rate\n",
    "IR <- 5\n",
    "\n",
    "# Duration (years)\n",
    "Dur <- 10\n",
    "\n",
    "# Deposit amt\n",
    "deposit <- 10\n",
    "\n",
    "# Historical balances\n",
    "Hist.Balance <- Bank.Balance\n",
    "\n",
    "for(i in 1:Dur){\n",
    "    Bank.Balance <- Bank.Balance + deposit\n",
    "    Hist.Balance <- c(Hist.Balance, Bank.Balance)\n",
    "    print(Bank.Balance)\n",
    "    Bank.Balance <- Bank.Balance*(1+IR/100)\n",
    "}\n",
    "\n",
    "plot(Hist.Balance ~ c(0:Dur), ylab = \"Balance\", xlab = \"Years\", type = \"l\")"
   ]
  },
  {
   "cell_type": "code",
   "execution_count": 18,
   "metadata": {},
   "outputs": [
    {
     "data": {
      "text/html": [
       "'This text will include Printed Text'"
      ],
      "text/latex": [
       "'This text will include Printed Text'"
      ],
      "text/markdown": [
       "'This text will include Printed Text'"
      ],
      "text/plain": [
       "[1] \"This text will include Printed Text\""
      ]
     },
     "metadata": {},
     "output_type": "display_data"
    }
   ],
   "source": [
    "# Using the sprintf function\n",
    "s = 'Printed Text'\n",
    "\n",
    "sprintf('This text will include %s', s)"
   ]
  },
  {
   "cell_type": "code",
   "execution_count": 21,
   "metadata": {},
   "outputs": [
    {
     "data": {
      "text/html": [
       "'This string will include additional text'"
      ],
      "text/latex": [
       "'This string will include additional text'"
      ],
      "text/markdown": [
       "'This string will include additional text'"
      ],
      "text/plain": [
       "[1] \"This string will include additional text\""
      ]
     },
     "metadata": {},
     "output_type": "display_data"
    },
    {
     "data": {
      "text/html": [
       "'This string will include additional text at the end of the sentence'"
      ],
      "text/latex": [
       "'This string will include additional text at the end of the sentence'"
      ],
      "text/markdown": [
       "'This string will include additional text at the end of the sentence'"
      ],
      "text/plain": [
       "[1] \"This string will include additional text at the end of the sentence\""
      ]
     },
     "metadata": {},
     "output_type": "display_data"
    }
   ],
   "source": [
    "# You can supply the string directly in the function if you want. \"%s\" can be changed for different types e.g. %i for integer\n",
    "sprintf('This string will include %s', 'additional text')\n",
    "\n",
    "# The help page for more info\n",
    "# ?sprintf\n",
    "\n",
    "string1 <- 'additional text'\n",
    "string2 <- 'at the end'\n",
    "string3 <- 'of the sentence'\n",
    "\n",
    "sprintf('This string will include %s %s %s', string1, string2, string3)"
   ]
  },
  {
   "cell_type": "code",
   "execution_count": 23,
   "metadata": {},
   "outputs": [
    {
     "data": {
      "text/html": [
       "<ol>\n",
       "\t<li><ol class=list-inline>\n",
       "\t<li>'The'</li>\n",
       "\t<li>'quick'</li>\n",
       "\t<li>'brown'</li>\n",
       "\t<li>'fox'</li>\n",
       "\t<li>'jumped'</li>\n",
       "\t<li>'over'</li>\n",
       "\t<li>'the'</li>\n",
       "\t<li>'lazy'</li>\n",
       "\t<li>'dog'</li>\n",
       "</ol>\n",
       "</li>\n",
       "</ol>\n"
      ],
      "text/latex": [
       "\\begin{enumerate}\n",
       "\\item \\begin{enumerate*}\n",
       "\\item 'The'\n",
       "\\item 'quick'\n",
       "\\item 'brown'\n",
       "\\item 'fox'\n",
       "\\item 'jumped'\n",
       "\\item 'over'\n",
       "\\item 'the'\n",
       "\\item 'lazy'\n",
       "\\item 'dog'\n",
       "\\end{enumerate*}\n",
       "\n",
       "\\end{enumerate}\n"
      ],
      "text/markdown": [
       "1. 1. 'The'\n",
       "2. 'quick'\n",
       "3. 'brown'\n",
       "4. 'fox'\n",
       "5. 'jumped'\n",
       "6. 'over'\n",
       "7. 'the'\n",
       "8. 'lazy'\n",
       "9. 'dog'\n",
       "\n",
       "\n",
       "\n",
       "\n",
       "\n"
      ],
      "text/plain": [
       "[[1]]\n",
       "[1] \"The\"    \"quick\"  \"brown\"  \"fox\"    \"jumped\" \"over\"   \"the\"    \"lazy\"  \n",
       "[9] \"dog\"   \n"
      ]
     },
     "metadata": {},
     "output_type": "display_data"
    }
   ],
   "source": [
    "# Splitting strings\n",
    "Str <- \"The quick brown fox jumped over the lazy dog\"\n",
    "\n",
    "strsplit(Str, \" \")"
   ]
  },
  {
   "cell_type": "code",
   "execution_count": 58,
   "metadata": {},
   "outputs": [
    {
     "data": {
      "text/html": [
       "<ol class=list-inline>\n",
       "\t<li>'a'</li>\n",
       "\t<li>'b'</li>\n",
       "\t<li>'c'</li>\n",
       "\t<li>'d'</li>\n",
       "\t<li>'e'</li>\n",
       "\t<li>'f'</li>\n",
       "\t<li>'g'</li>\n",
       "\t<li>'h'</li>\n",
       "\t<li>'i'</li>\n",
       "\t<li>'j'</li>\n",
       "</ol>\n"
      ],
      "text/latex": [
       "\\begin{enumerate*}\n",
       "\\item 'a'\n",
       "\\item 'b'\n",
       "\\item 'c'\n",
       "\\item 'd'\n",
       "\\item 'e'\n",
       "\\item 'f'\n",
       "\\item 'g'\n",
       "\\item 'h'\n",
       "\\item 'i'\n",
       "\\item 'j'\n",
       "\\end{enumerate*}\n"
      ],
      "text/markdown": [
       "1. 'a'\n",
       "2. 'b'\n",
       "3. 'c'\n",
       "4. 'd'\n",
       "5. 'e'\n",
       "6. 'f'\n",
       "7. 'g'\n",
       "8. 'h'\n",
       "9. 'i'\n",
       "10. 'j'\n",
       "\n",
       "\n"
      ],
      "text/plain": [
       " [1] \"a\" \"b\" \"c\" \"d\" \"e\" \"f\" \"g\" \"h\" \"i\" \"j\""
      ]
     },
     "metadata": {},
     "output_type": "display_data"
    },
    {
     "data": {
      "text/html": [
       "<ol>\n",
       "\t<li><ol class=list-inline>\n",
       "\t<li>'a'</li>\n",
       "\t<li>'b'</li>\n",
       "\t<li>'c'</li>\n",
       "\t<li>'d'</li>\n",
       "\t<li>'e'</li>\n",
       "</ol>\n",
       "</li>\n",
       "\t<li><ol class=list-inline>\n",
       "\t<li>1</li>\n",
       "\t<li>2</li>\n",
       "\t<li>3</li>\n",
       "\t<li>4</li>\n",
       "\t<li>5</li>\n",
       "</ol>\n",
       "</li>\n",
       "</ol>\n"
      ],
      "text/latex": [
       "\\begin{enumerate}\n",
       "\\item \\begin{enumerate*}\n",
       "\\item 'a'\n",
       "\\item 'b'\n",
       "\\item 'c'\n",
       "\\item 'd'\n",
       "\\item 'e'\n",
       "\\end{enumerate*}\n",
       "\n",
       "\\item \\begin{enumerate*}\n",
       "\\item 1\n",
       "\\item 2\n",
       "\\item 3\n",
       "\\item 4\n",
       "\\item 5\n",
       "\\end{enumerate*}\n",
       "\n",
       "\\end{enumerate}\n"
      ],
      "text/markdown": [
       "1. 1. 'a'\n",
       "2. 'b'\n",
       "3. 'c'\n",
       "4. 'd'\n",
       "5. 'e'\n",
       "\n",
       "\n",
       "\n",
       "2. 1. 1\n",
       "2. 2\n",
       "3. 3\n",
       "4. 4\n",
       "5. 5\n",
       "\n",
       "\n",
       "\n",
       "\n",
       "\n"
      ],
      "text/plain": [
       "[[1]]\n",
       "[1] \"a\" \"b\" \"c\" \"d\" \"e\"\n",
       "\n",
       "[[2]]\n",
       "[1] 1 2 3 4 5\n"
      ]
     },
     "metadata": {},
     "output_type": "display_data"
    },
    {
     "data": {
      "text/html": [
       "'list'"
      ],
      "text/latex": [
       "'list'"
      ],
      "text/markdown": [
       "'list'"
      ],
      "text/plain": [
       "[1] \"list\""
      ]
     },
     "metadata": {},
     "output_type": "display_data"
    },
    {
     "data": {
      "text/html": [
       "<ol class=list-inline>\n",
       "\t<li>62</li>\n",
       "\t<li>74</li>\n",
       "\t<li>53</li>\n",
       "\t<li>57</li>\n",
       "\t<li>67</li>\n",
       "\t<li>77</li>\n",
       "\t<li>63</li>\n",
       "</ol>\n"
      ],
      "text/latex": [
       "\\begin{enumerate*}\n",
       "\\item 62\n",
       "\\item 74\n",
       "\\item 53\n",
       "\\item 57\n",
       "\\item 67\n",
       "\\item 77\n",
       "\\item 63\n",
       "\\end{enumerate*}\n"
      ],
      "text/markdown": [
       "1. 62\n",
       "2. 74\n",
       "3. 53\n",
       "4. 57\n",
       "5. 67\n",
       "6. 77\n",
       "7. 63\n",
       "\n",
       "\n"
      ],
      "text/plain": [
       "[1] 62 74 53 57 67 77 63"
      ]
     },
     "metadata": {},
     "output_type": "display_data"
    },
    {
     "data": {
      "text/html": [
       "<dl class=dl-horizontal>\n",
       "\t<dt>Mon</dt>\n",
       "\t\t<dd>62</dd>\n",
       "\t<dt>Tue</dt>\n",
       "\t\t<dd>74</dd>\n",
       "\t<dt>Wed</dt>\n",
       "\t\t<dd>53</dd>\n",
       "\t<dt>Thurs</dt>\n",
       "\t\t<dd>57</dd>\n",
       "\t<dt>Fri</dt>\n",
       "\t\t<dd>67</dd>\n",
       "\t<dt>Sat</dt>\n",
       "\t\t<dd>77</dd>\n",
       "\t<dt>Sun</dt>\n",
       "\t\t<dd>63</dd>\n",
       "</dl>\n"
      ],
      "text/latex": [
       "\\begin{description*}\n",
       "\\item[Mon] 62\n",
       "\\item[Tue] 74\n",
       "\\item[Wed] 53\n",
       "\\item[Thurs] 57\n",
       "\\item[Fri] 67\n",
       "\\item[Sat] 77\n",
       "\\item[Sun] 63\n",
       "\\end{description*}\n"
      ],
      "text/markdown": [
       "Mon\n",
       ":   62Tue\n",
       ":   74Wed\n",
       ":   53Thurs\n",
       ":   57Fri\n",
       ":   67Sat\n",
       ":   77Sun\n",
       ":   63\n",
       "\n"
      ],
      "text/plain": [
       "  Mon   Tue   Wed Thurs   Fri   Sat   Sun \n",
       "   62    74    53    57    67    77    63 "
      ]
     },
     "metadata": {},
     "output_type": "display_data"
    },
    {
     "data": {
      "text/html": [
       "<ol class=list-inline>\n",
       "\t<li>1.89</li>\n",
       "\t<li>-1.62</li>\n",
       "\t<li>-0.48</li>\n",
       "\t<li>0.08</li>\n",
       "\t<li>0.77</li>\n",
       "\t<li>0.14</li>\n",
       "\t<li>2.24</li>\n",
       "\t<li>-0.29</li>\n",
       "\t<li>1.52</li>\n",
       "\t<li>0.77</li>\n",
       "</ol>\n"
      ],
      "text/latex": [
       "\\begin{enumerate*}\n",
       "\\item 1.89\n",
       "\\item -1.62\n",
       "\\item -0.48\n",
       "\\item 0.08\n",
       "\\item 0.77\n",
       "\\item 0.14\n",
       "\\item 2.24\n",
       "\\item -0.29\n",
       "\\item 1.52\n",
       "\\item 0.77\n",
       "\\end{enumerate*}\n"
      ],
      "text/markdown": [
       "1. 1.89\n",
       "2. -1.62\n",
       "3. -0.48\n",
       "4. 0.08\n",
       "5. 0.77\n",
       "6. 0.14\n",
       "7. 2.24\n",
       "8. -0.29\n",
       "9. 1.52\n",
       "10. 0.77\n",
       "\n",
       "\n"
      ],
      "text/plain": [
       " [1]  1.89 -1.62 -0.48  0.08  0.77  0.14  2.24 -0.29  1.52  0.77"
      ]
     },
     "metadata": {},
     "output_type": "display_data"
    },
    {
     "data": {
      "text/html": [
       "<ol class=list-inline>\n",
       "\t<li>0.596</li>\n",
       "\t<li>0.6512</li>\n",
       "\t<li>-1.9873</li>\n",
       "\t<li>-0.2385</li>\n",
       "\t<li>0.049</li>\n",
       "\t<li>-0.588</li>\n",
       "\t<li>0.7503</li>\n",
       "\t<li>-0.2546</li>\n",
       "\t<li>-2.6624</li>\n",
       "\t<li>-1.377</li>\n",
       "</ol>\n"
      ],
      "text/latex": [
       "\\begin{enumerate*}\n",
       "\\item 0.596\n",
       "\\item 0.6512\n",
       "\\item -1.9873\n",
       "\\item -0.2385\n",
       "\\item 0.049\n",
       "\\item -0.588\n",
       "\\item 0.7503\n",
       "\\item -0.2546\n",
       "\\item -2.6624\n",
       "\\item -1.377\n",
       "\\end{enumerate*}\n"
      ],
      "text/markdown": [
       "1. 0.596\n",
       "2. 0.6512\n",
       "3. -1.9873\n",
       "4. -0.2385\n",
       "5. 0.049\n",
       "6. -0.588\n",
       "7. 0.7503\n",
       "8. -0.2546\n",
       "9. -2.6624\n",
       "10. -1.377\n",
       "\n",
       "\n"
      ],
      "text/plain": [
       " [1]  0.5960  0.6512 -1.9873 -0.2385  0.0490 -0.5880  0.7503 -0.2546 -2.6624\n",
       "[10] -1.3770"
      ]
     },
     "metadata": {},
     "output_type": "display_data"
    },
    {
     "data": {
      "text/html": [
       "0.0442556949518746"
      ],
      "text/latex": [
       "0.0442556949518746"
      ],
      "text/markdown": [
       "0.0442556949518746"
      ],
      "text/plain": [
       "[1] 0.04425569"
      ]
     },
     "metadata": {},
     "output_type": "display_data"
    },
    {
     "data": {
      "text/html": [
       "<table>\n",
       "<tbody>\n",
       "\t<tr><td>-5.0613</td></tr>\n",
       "</tbody>\n",
       "</table>\n"
      ],
      "text/latex": [
       "\\begin{tabular}{l}\n",
       "\t -5.0613\\\\\n",
       "\\end{tabular}\n"
      ],
      "text/markdown": [
       "\n",
       "| -5.0613 |\n",
       "\n"
      ],
      "text/plain": [
       "     [,1]   \n",
       "[1,] -5.0613"
      ]
     },
     "metadata": {},
     "output_type": "display_data"
    },
    {
     "data": {
      "text/html": [
       "32"
      ],
      "text/latex": [
       "32"
      ],
      "text/markdown": [
       "32"
      ],
      "text/plain": [
       "[1] 32"
      ]
     },
     "metadata": {},
     "output_type": "display_data"
    },
    {
     "data": {
      "text/html": [
       "<table>\n",
       "<tbody>\n",
       "\t<tr><td> 0.5960</td><td>-0.2960</td><td>-0.6680</td><td>-0.1800</td><td> 0.0280</td><td>-0.280 </td><td> 0.7320</td><td>-0.2680</td><td>-0.4160</td><td> 0.6480</td></tr>\n",
       "\t<tr><td>-1.3112</td><td> 0.6512</td><td> 1.4696</td><td> 0.3960</td><td>-0.0616</td><td> 0.616 </td><td>-1.6104</td><td> 0.5896</td><td> 0.9152</td><td>-1.4256</td></tr>\n",
       "\t<tr><td> 1.7731</td><td>-0.8806</td><td>-1.9873</td><td>-0.5355</td><td> 0.0833</td><td>-0.833 </td><td> 2.1777</td><td>-0.7973</td><td>-1.2376</td><td> 1.9278</td></tr>\n",
       "\t<tr><td> 0.7897</td><td>-0.3922</td><td>-0.8851</td><td>-0.2385</td><td> 0.0371</td><td>-0.371 </td><td> 0.9699</td><td>-0.3551</td><td>-0.5512</td><td> 0.8586</td></tr>\n",
       "\t<tr><td> 1.0430</td><td>-0.5180</td><td>-1.1690</td><td>-0.3150</td><td> 0.0490</td><td>-0.490 </td><td> 1.2810</td><td>-0.4690</td><td>-0.7280</td><td> 1.1340</td></tr>\n",
       "\t<tr><td> 1.2516</td><td>-0.6216</td><td>-1.4028</td><td>-0.3780</td><td> 0.0588</td><td>-0.588 </td><td> 1.5372</td><td>-0.5628</td><td>-0.8736</td><td> 1.3608</td></tr>\n",
       "\t<tr><td> 0.6109</td><td>-0.3034</td><td>-0.6847</td><td>-0.1845</td><td> 0.0287</td><td>-0.287 </td><td> 0.7503</td><td>-0.2747</td><td>-0.4264</td><td> 0.6642</td></tr>\n",
       "\t<tr><td> 0.5662</td><td>-0.2812</td><td>-0.6346</td><td>-0.1710</td><td> 0.0266</td><td>-0.266 </td><td> 0.6954</td><td>-0.2546</td><td>-0.3952</td><td> 0.6156</td></tr>\n",
       "\t<tr><td> 3.8144</td><td>-1.8944</td><td>-4.2752</td><td>-1.1520</td><td> 0.1792</td><td>-1.792 </td><td> 4.6848</td><td>-1.7152</td><td>-2.6624</td><td> 4.1472</td></tr>\n",
       "\t<tr><td>-1.2665</td><td> 0.6290</td><td> 1.4195</td><td> 0.3825</td><td>-0.0595</td><td> 0.595 </td><td>-1.5555</td><td> 0.5695</td><td> 0.8840</td><td>-1.3770</td></tr>\n",
       "</tbody>\n",
       "</table>\n"
      ],
      "text/latex": [
       "\\begin{tabular}{llllllllll}\n",
       "\t  0.5960 & -0.2960 & -0.6680 & -0.1800 &  0.0280 & -0.280  &  0.7320 & -0.2680 & -0.4160 &  0.6480\\\\\n",
       "\t -1.3112 &  0.6512 &  1.4696 &  0.3960 & -0.0616 &  0.616  & -1.6104 &  0.5896 &  0.9152 & -1.4256\\\\\n",
       "\t  1.7731 & -0.8806 & -1.9873 & -0.5355 &  0.0833 & -0.833  &  2.1777 & -0.7973 & -1.2376 &  1.9278\\\\\n",
       "\t  0.7897 & -0.3922 & -0.8851 & -0.2385 &  0.0371 & -0.371  &  0.9699 & -0.3551 & -0.5512 &  0.8586\\\\\n",
       "\t  1.0430 & -0.5180 & -1.1690 & -0.3150 &  0.0490 & -0.490  &  1.2810 & -0.4690 & -0.7280 &  1.1340\\\\\n",
       "\t  1.2516 & -0.6216 & -1.4028 & -0.3780 &  0.0588 & -0.588  &  1.5372 & -0.5628 & -0.8736 &  1.3608\\\\\n",
       "\t  0.6109 & -0.3034 & -0.6847 & -0.1845 &  0.0287 & -0.287  &  0.7503 & -0.2747 & -0.4264 &  0.6642\\\\\n",
       "\t  0.5662 & -0.2812 & -0.6346 & -0.1710 &  0.0266 & -0.266  &  0.6954 & -0.2546 & -0.3952 &  0.6156\\\\\n",
       "\t  3.8144 & -1.8944 & -4.2752 & -1.1520 &  0.1792 & -1.792  &  4.6848 & -1.7152 & -2.6624 &  4.1472\\\\\n",
       "\t -1.2665 &  0.6290 &  1.4195 &  0.3825 & -0.0595 &  0.595  & -1.5555 &  0.5695 &  0.8840 & -1.3770\\\\\n",
       "\\end{tabular}\n"
      ],
      "text/markdown": [
       "\n",
       "|  0.5960 | -0.2960 | -0.6680 | -0.1800 |  0.0280 | -0.280  |  0.7320 | -0.2680 | -0.4160 |  0.6480 |\n",
       "| -1.3112 |  0.6512 |  1.4696 |  0.3960 | -0.0616 |  0.616  | -1.6104 |  0.5896 |  0.9152 | -1.4256 |\n",
       "|  1.7731 | -0.8806 | -1.9873 | -0.5355 |  0.0833 | -0.833  |  2.1777 | -0.7973 | -1.2376 |  1.9278 |\n",
       "|  0.7897 | -0.3922 | -0.8851 | -0.2385 |  0.0371 | -0.371  |  0.9699 | -0.3551 | -0.5512 |  0.8586 |\n",
       "|  1.0430 | -0.5180 | -1.1690 | -0.3150 |  0.0490 | -0.490  |  1.2810 | -0.4690 | -0.7280 |  1.1340 |\n",
       "|  1.2516 | -0.6216 | -1.4028 | -0.3780 |  0.0588 | -0.588  |  1.5372 | -0.5628 | -0.8736 |  1.3608 |\n",
       "|  0.6109 | -0.3034 | -0.6847 | -0.1845 |  0.0287 | -0.287  |  0.7503 | -0.2747 | -0.4264 |  0.6642 |\n",
       "|  0.5662 | -0.2812 | -0.6346 | -0.1710 |  0.0266 | -0.266  |  0.6954 | -0.2546 | -0.3952 |  0.6156 |\n",
       "|  3.8144 | -1.8944 | -4.2752 | -1.1520 |  0.1792 | -1.792  |  4.6848 | -1.7152 | -2.6624 |  4.1472 |\n",
       "| -1.2665 |  0.6290 |  1.4195 |  0.3825 | -0.0595 |  0.595  | -1.5555 |  0.5695 |  0.8840 | -1.3770 |\n",
       "\n"
      ],
      "text/plain": [
       "      [,1]    [,2]    [,3]    [,4]    [,5]    [,6]   [,7]    [,8]    [,9]   \n",
       " [1,]  0.5960 -0.2960 -0.6680 -0.1800  0.0280 -0.280  0.7320 -0.2680 -0.4160\n",
       " [2,] -1.3112  0.6512  1.4696  0.3960 -0.0616  0.616 -1.6104  0.5896  0.9152\n",
       " [3,]  1.7731 -0.8806 -1.9873 -0.5355  0.0833 -0.833  2.1777 -0.7973 -1.2376\n",
       " [4,]  0.7897 -0.3922 -0.8851 -0.2385  0.0371 -0.371  0.9699 -0.3551 -0.5512\n",
       " [5,]  1.0430 -0.5180 -1.1690 -0.3150  0.0490 -0.490  1.2810 -0.4690 -0.7280\n",
       " [6,]  1.2516 -0.6216 -1.4028 -0.3780  0.0588 -0.588  1.5372 -0.5628 -0.8736\n",
       " [7,]  0.6109 -0.3034 -0.6847 -0.1845  0.0287 -0.287  0.7503 -0.2747 -0.4264\n",
       " [8,]  0.5662 -0.2812 -0.6346 -0.1710  0.0266 -0.266  0.6954 -0.2546 -0.3952\n",
       " [9,]  3.8144 -1.8944 -4.2752 -1.1520  0.1792 -1.792  4.6848 -1.7152 -2.6624\n",
       "[10,] -1.2665  0.6290  1.4195  0.3825 -0.0595  0.595 -1.5555  0.5695  0.8840\n",
       "      [,10]  \n",
       " [1,]  0.6480\n",
       " [2,] -1.4256\n",
       " [3,]  1.9278\n",
       " [4,]  0.8586\n",
       " [5,]  1.1340\n",
       " [6,]  1.3608\n",
       " [7,]  0.6642\n",
       " [8,]  0.6156\n",
       " [9,]  4.1472\n",
       "[10,] -1.3770"
      ]
     },
     "metadata": {},
     "output_type": "display_data"
    },
    {
     "data": {
      "text/plain": [
       "   Min. 1st Qu.  Median    Mean 3rd Qu.    Max. \n",
       " -0.880   0.385   0.470   0.528   0.805   2.560 "
      ]
     },
     "metadata": {},
     "output_type": "display_data"
    },
    {
     "data": {
      "text/html": [
       "0.979101629045729"
      ],
      "text/latex": [
       "0.979101629045729"
      ],
      "text/markdown": [
       "0.979101629045729"
      ],
      "text/plain": [
       "[1] 0.9791016"
      ]
     },
     "metadata": {},
     "output_type": "display_data"
    },
    {
     "data": {
      "text/html": [
       "0.95864"
      ],
      "text/latex": [
       "0.95864"
      ],
      "text/markdown": [
       "0.95864"
      ],
      "text/plain": [
       "[1] 0.95864"
      ]
     },
     "metadata": {},
     "output_type": "display_data"
    }
   ],
   "source": [
    "# Vectors & Lists\n",
    "\n",
    "# Characters\n",
    "(cvec <- letters[1:10])\n",
    "\n",
    "# Lists\n",
    "(MixedTypes <- list(letters[1:5], 1:5))\n",
    "class(MixedTypes)\n",
    "\n",
    "# Name vector elements\n",
    "(temps1 <- round(rnorm(7, 60, 10)))\n",
    "   days <- c(\"Mon\", \"Tue\", \"Wed\", \"Thurs\", \"Fri\", \"Sat\", \"Sun\")\n",
    "\n",
    "names(temps1) <- days\n",
    "temps1\n",
    "\n",
    "# Vector Operations\n",
    "V1 <- round(rnorm(10), 2)\n",
    "V2 <- round(rnorm(10), 2)\n",
    "\n",
    "# Addition (elementwise)\n",
    "V1+V2\n",
    "\n",
    "# Product\n",
    "V1*V2\n",
    "\n",
    "# etc...\n",
    "\n",
    "# Product of vector elements\n",
    "prod(V1)\n",
    "\n",
    "# Dot product\n",
    "V1%*%V2\n",
    "1*4 + 2*5 + 3*6\n",
    "\n",
    "# Outer product\n",
    "V1%o%V2\n",
    "\n",
    "# Some summaries\n",
    "summary(V1)\n",
    "sd(V1)\n",
    "var(V1)"
   ]
  },
  {
   "cell_type": "code",
   "execution_count": 59,
   "metadata": {},
   "outputs": [
    {
     "data": {
      "text/html": [
       "TRUE"
      ],
      "text/latex": [
       "TRUE"
      ],
      "text/markdown": [
       "TRUE"
      ],
      "text/plain": [
       "[1] TRUE"
      ]
     },
     "metadata": {},
     "output_type": "display_data"
    },
    {
     "data": {
      "text/html": [
       "TRUE"
      ],
      "text/latex": [
       "TRUE"
      ],
      "text/markdown": [
       "TRUE"
      ],
      "text/plain": [
       "[1] TRUE"
      ]
     },
     "metadata": {},
     "output_type": "display_data"
    },
    {
     "data": {
      "text/html": [
       "FALSE"
      ],
      "text/latex": [
       "FALSE"
      ],
      "text/markdown": [
       "FALSE"
      ],
      "text/plain": [
       "[1] FALSE"
      ]
     },
     "metadata": {},
     "output_type": "display_data"
    },
    {
     "data": {
      "text/html": [
       "TRUE"
      ],
      "text/latex": [
       "TRUE"
      ],
      "text/markdown": [
       "TRUE"
      ],
      "text/plain": [
       "[1] TRUE"
      ]
     },
     "metadata": {},
     "output_type": "display_data"
    }
   ],
   "source": [
    "# Logical Operators\n",
    "2 + 2 == 4\n",
    "\n",
    "4 >= 3\n",
    "\n",
    "4 <= 3\n",
    "\n",
    "4 != 3"
   ]
  },
  {
   "cell_type": "code",
   "execution_count": 56,
   "metadata": {},
   "outputs": [
    {
     "data": {
      "text/html": [
       "<ol class=list-inline>\n",
       "\t<li>11.17</li>\n",
       "\t<li>11.03</li>\n",
       "\t<li>9.43</li>\n",
       "\t<li>12.05</li>\n",
       "\t<li>8.75</li>\n",
       "\t<li>8.87</li>\n",
       "\t<li>10.84</li>\n",
       "\t<li>11.32</li>\n",
       "\t<li>4.31</li>\n",
       "\t<li>10.23</li>\n",
       "</ol>\n"
      ],
      "text/latex": [
       "\\begin{enumerate*}\n",
       "\\item 11.17\n",
       "\\item 11.03\n",
       "\\item 9.43\n",
       "\\item 12.05\n",
       "\\item 8.75\n",
       "\\item 8.87\n",
       "\\item 10.84\n",
       "\\item 11.32\n",
       "\\item 4.31\n",
       "\\item 10.23\n",
       "\\end{enumerate*}\n"
      ],
      "text/markdown": [
       "1. 11.17\n",
       "2. 11.03\n",
       "3. 9.43\n",
       "4. 12.05\n",
       "5. 8.75\n",
       "6. 8.87\n",
       "7. 10.84\n",
       "8. 11.32\n",
       "9. 4.31\n",
       "10. 10.23\n",
       "\n",
       "\n"
      ],
      "text/plain": [
       " [1] 11.17 11.03  9.43 12.05  8.75  8.87 10.84 11.32  4.31 10.23"
      ]
     },
     "metadata": {},
     "output_type": "display_data"
    },
    {
     "data": {
      "text/html": [
       "<ol class=list-inline>\n",
       "\t<li>11.17</li>\n",
       "\t<li>11.03</li>\n",
       "\t<li>9.43</li>\n",
       "\t<li>12.05</li>\n",
       "\t<li>8.75</li>\n",
       "</ol>\n"
      ],
      "text/latex": [
       "\\begin{enumerate*}\n",
       "\\item 11.17\n",
       "\\item 11.03\n",
       "\\item 9.43\n",
       "\\item 12.05\n",
       "\\item 8.75\n",
       "\\end{enumerate*}\n"
      ],
      "text/markdown": [
       "1. 11.17\n",
       "2. 11.03\n",
       "3. 9.43\n",
       "4. 12.05\n",
       "5. 8.75\n",
       "\n",
       "\n"
      ],
      "text/plain": [
       "[1] 11.17 11.03  9.43 12.05  8.75"
      ]
     },
     "metadata": {},
     "output_type": "display_data"
    },
    {
     "data": {
      "text/html": [
       "<ol class=list-inline>\n",
       "\t<li>11.17</li>\n",
       "\t<li>9.43</li>\n",
       "</ol>\n"
      ],
      "text/latex": [
       "\\begin{enumerate*}\n",
       "\\item 11.17\n",
       "\\item 9.43\n",
       "\\end{enumerate*}\n"
      ],
      "text/markdown": [
       "1. 11.17\n",
       "2. 9.43\n",
       "\n",
       "\n"
      ],
      "text/plain": [
       "[1] 11.17  9.43"
      ]
     },
     "metadata": {},
     "output_type": "display_data"
    },
    {
     "data": {
      "text/html": [
       "<ol class=list-inline>\n",
       "\t<li>11.17</li>\n",
       "\t<li>11.03</li>\n",
       "\t<li>12.05</li>\n",
       "\t<li>10.84</li>\n",
       "\t<li>11.32</li>\n",
       "\t<li>10.23</li>\n",
       "</ol>\n"
      ],
      "text/latex": [
       "\\begin{enumerate*}\n",
       "\\item 11.17\n",
       "\\item 11.03\n",
       "\\item 12.05\n",
       "\\item 10.84\n",
       "\\item 11.32\n",
       "\\item 10.23\n",
       "\\end{enumerate*}\n"
      ],
      "text/markdown": [
       "1. 11.17\n",
       "2. 11.03\n",
       "3. 12.05\n",
       "4. 10.84\n",
       "5. 11.32\n",
       "6. 10.23\n",
       "\n",
       "\n"
      ],
      "text/plain": [
       "[1] 11.17 11.03 12.05 10.84 11.32 10.23"
      ]
     },
     "metadata": {},
     "output_type": "display_data"
    },
    {
     "data": {
      "text/html": [
       "4.31"
      ],
      "text/latex": [
       "4.31"
      ],
      "text/markdown": [
       "4.31"
      ],
      "text/plain": [
       "[1] 4.31"
      ]
     },
     "metadata": {},
     "output_type": "display_data"
    },
    {
     "data": {
      "text/html": [
       "<dl class=dl-horizontal>\n",
       "\t<dt>A</dt>\n",
       "\t\t<dd>11.17</dd>\n",
       "\t<dt>B</dt>\n",
       "\t\t<dd>11.03</dd>\n",
       "\t<dt>C</dt>\n",
       "\t\t<dd>9.43</dd>\n",
       "\t<dt>D</dt>\n",
       "\t\t<dd>12.05</dd>\n",
       "\t<dt>E</dt>\n",
       "\t\t<dd>8.75</dd>\n",
       "\t<dt>F</dt>\n",
       "\t\t<dd>8.87</dd>\n",
       "\t<dt>G</dt>\n",
       "\t\t<dd>10.84</dd>\n",
       "\t<dt>H</dt>\n",
       "\t\t<dd>11.32</dd>\n",
       "\t<dt>I</dt>\n",
       "\t\t<dd>4.31</dd>\n",
       "\t<dt>J</dt>\n",
       "\t\t<dd>10.23</dd>\n",
       "</dl>\n"
      ],
      "text/latex": [
       "\\begin{description*}\n",
       "\\item[A] 11.17\n",
       "\\item[B] 11.03\n",
       "\\item[C] 9.43\n",
       "\\item[D] 12.05\n",
       "\\item[E] 8.75\n",
       "\\item[F] 8.87\n",
       "\\item[G] 10.84\n",
       "\\item[H] 11.32\n",
       "\\item[I] 4.31\n",
       "\\item[J] 10.23\n",
       "\\end{description*}\n"
      ],
      "text/markdown": [
       "A\n",
       ":   11.17B\n",
       ":   11.03C\n",
       ":   9.43D\n",
       ":   12.05E\n",
       ":   8.75F\n",
       ":   8.87G\n",
       ":   10.84H\n",
       ":   11.32I\n",
       ":   4.31J\n",
       ":   10.23\n",
       "\n"
      ],
      "text/plain": [
       "    A     B     C     D     E     F     G     H     I     J \n",
       "11.17 11.03  9.43 12.05  8.75  8.87 10.84 11.32  4.31 10.23 "
      ]
     },
     "metadata": {},
     "output_type": "display_data"
    },
    {
     "data": {
      "text/html": [
       "<strong>C:</strong> 9.43"
      ],
      "text/latex": [
       "\\textbf{C:} 9.43"
      ],
      "text/markdown": [
       "**C:** 9.43"
      ],
      "text/plain": [
       "   C \n",
       "9.43 "
      ]
     },
     "metadata": {},
     "output_type": "display_data"
    }
   ],
   "source": [
    "# Vector indexing & filtering\n",
    "nums <- round(rnorm(10, 10, 2), 2)\n",
    "nums\n",
    "\n",
    "nums[1:5]\n",
    "nums[c(1, 3)]\n",
    "nums[nums > 10]\n",
    "nums[nums < 5]\n",
    "\n",
    "names(nums) <- LETTERS[1:10]\n",
    "nums\n",
    "\n",
    "nums[\"C\"]"
   ]
  },
  {
   "cell_type": "code",
   "execution_count": null,
   "metadata": {},
   "outputs": [],
   "source": []
  }
 ],
 "metadata": {
  "kernelspec": {
   "display_name": "R",
   "language": "R",
   "name": "ir"
  },
  "language_info": {
   "codemirror_mode": "r",
   "file_extension": ".r",
   "mimetype": "text/x-r-source",
   "name": "R",
   "pygments_lexer": "r",
   "version": "3.6.1"
  }
 },
 "nbformat": 4,
 "nbformat_minor": 2
}
